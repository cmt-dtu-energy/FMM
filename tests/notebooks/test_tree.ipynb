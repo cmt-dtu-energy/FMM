{
 "cells": [
  {
   "cell_type": "code",
   "execution_count": null,
   "id": "188bb7b5",
   "metadata": {},
   "outputs": [],
   "source": [
    "import sys, os\n",
    "from pathlib import Path\n",
    "import matplotlib.pyplot as plt\n",
    "\n",
    "# Find the repository root by searching upward for a 'pyFMM' directory\n",
    "start = Path.cwd().resolve()\n",
    "repo_root = None\n",
    "for p in [start] + list(start.parents):\n",
    "    if (p / 'pyFMM').is_dir():\n",
    "        repo_root = str(p)\n",
    "        break\n",
    "if repo_root is None:\n",
    "    raise RuntimeError(\"Could not find 'pyFMM' in any parent directory of cwd\")\n",
    "if repo_root not in sys.path:\n",
    "    sys.path.insert(0, repo_root)\n",
    "    \n",
    "from pyFMM import *\n",
    "import numpy as np"
   ]
  },
  {
   "cell_type": "code",
   "execution_count": null,
   "id": "55f8093c",
   "metadata": {},
   "outputs": [],
   "source": [
    "np.random.seed(42)\n",
    "N = 10000                              # number of points\n",
    "q = np.random.choice([-1, 1], size=N)  # source strengths with magnitude 1 and random sign\n",
    "source_area_size = 1.0\n",
    "LLC = np.array([ -1.0, -1.0, -1.0 ]) * source_area_size   # Lower Left Corner\n",
    "URC = np.array([  1.0,  1.0,  1.0 ]) * source_area_size   # Upper Right Corner\n",
    "size = URC - LLC\n",
    "center = 0.5 * (LLC + URC)\n",
    "X = np.random.uniform(low=LLC, high=URC, size=(N, 3))\n",
    "\n",
    "p = 4"
   ]
  },
  {
   "cell_type": "code",
   "execution_count": null,
   "id": "1967b1d6",
   "metadata": {},
   "outputs": [],
   "source": [
    "tree = FMMTree(center, size, X, q, p=p, max_leaf_size=10, max_level=2)\n",
    "tree.build_tree()"
   ]
  },
  {
   "cell_type": "code",
   "execution_count": null,
   "id": "2cc875f9",
   "metadata": {},
   "outputs": [],
   "source": [
    "for node in tree.node_list:\n",
    "    print(f\"Level: {node.level}, Center: {node.center}, Size: {node.size}, Num Points: {node.num_points}\", \" len indices:\", len(node.indices))"
   ]
  }
 ],
 "metadata": {
  "kernelspec": {
   "display_name": "MagPy",
   "language": "python",
   "name": "python3"
  },
  "language_info": {
   "codemirror_mode": {
    "name": "ipython",
    "version": 3
   },
   "file_extension": ".py",
   "mimetype": "text/x-python",
   "name": "python",
   "nbconvert_exporter": "python",
   "pygments_lexer": "ipython3",
   "version": "3.12.11"
  }
 },
 "nbformat": 4,
 "nbformat_minor": 5
}
