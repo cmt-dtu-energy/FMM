{
 "cells": [
  {
   "cell_type": "markdown",
   "id": "338f35d3",
   "metadata": {},
   "source": [
    "# pyFMM import smoke test\n",
    "This notebook ensures the local `pyFMM` package can be imported when the repository root is added to `sys.path`.\n",
    "It also performs a couple of small smoke checks: listing top-level names and attempting to access plotting and moment helpers."
   ]
  },
  {
   "cell_type": "code",
   "execution_count": null,
   "id": "10fa62ab",
   "metadata": {},
   "outputs": [],
   "source": [
    "import sys, os\n",
    "from pathlib import Path\n",
    "\n",
    "# Find the repository root by searching upward for a 'pyFMM' directory\n",
    "start = Path.cwd().resolve()\n",
    "repo_root = None\n",
    "for p in [start] + list(start.parents):\n",
    "    if (p / 'pyFMM').is_dir():\n",
    "        repo_root = str(p)\n",
    "        break\n",
    "if repo_root is None:\n",
    "    raise RuntimeError(\"Could not find 'pyFMM' in any parent directory of cwd\")\n",
    "if repo_root not in sys.path:\n",
    "    sys.path.insert(0, repo_root)"
   ]
  },
  {
   "cell_type": "code",
   "execution_count": null,
   "id": "574db8c0",
   "metadata": {},
   "outputs": [],
   "source": [
    "# Import package and print basic info\n",
    "import pyFMM\n",
    "print('pyFMM imported from:', getattr(pyFMM, '__file__', 'package'))\n",
    "print('Top-level names (sample):', [n for n in dir(pyFMM) if not n.startswith('_')][:40])"
   ]
  },
  {
   "cell_type": "code",
   "execution_count": null,
   "id": "ba06fb4b",
   "metadata": {},
   "outputs": [],
   "source": [
    "# Try to access plotting helpers if available\n",
    "try:\n",
    "    from pyFMM import plot_points_3d, plot_ylog\n",
    "    print('plot_points_3d and plot_ylog available')\n",
    "except Exception as e:\n",
    "    print('plot helpers not available or not exported at top-level:', e)\n",
    "\n",
    "# Try to import P2M from the moment subpackage\n",
    "try:\n",
    "    from pyFMM.moment import P2M\n",
    "    print('pyFMM.moment.P2M module available')\n",
    "except Exception as e:\n",
    "    print('moment.P2M not available:', e)"
   ]
  },
  {
   "cell_type": "code",
   "execution_count": null,
   "id": "893e0e10",
   "metadata": {},
   "outputs": [],
   "source": [
    "import pkgutil\n",
    "import importlib\n",
    "import inspect\n",
    "\n",
    "def show_package_tree(package_name, indent=\"\"):\n",
    "    package = importlib.import_module(package_name)\n",
    "    print(f\"{indent}{package_name.split('.')[-1]}\")\n",
    "    indent += \"    \"\n",
    "\n",
    "    # List functions and classes in this package/module\n",
    "    members = []\n",
    "    for attr_name, attr_value in inspect.getmembers(package):\n",
    "        if inspect.isfunction(attr_value) or inspect.isclass(attr_value):\n",
    "            members.append(attr_name)\n",
    "\n",
    "    for m in members:\n",
    "        print(f\"{indent}{m}\")\n",
    "\n",
    "    # Recurse into subpackages/modules\n",
    "    if hasattr(package, \"__path__\"):  # only packages have __path__\n",
    "        for _, modname, ispkg in pkgutil.iter_modules(package.__path__):\n",
    "            full_name = f\"{package_name}.{modname}\"\n",
    "            if ispkg:\n",
    "                show_package_tree(full_name, indent)\n",
    "            else:\n",
    "                # for plain modules: list their functions too\n",
    "                module = importlib.import_module(full_name)\n",
    "                print(f\"{indent}{modname}\")\n",
    "                sub_members = [\n",
    "                    n for n, v in inspect.getmembers(module)\n",
    "                    if inspect.isfunction(v) or inspect.isclass(v)\n",
    "                ]\n",
    "                for sm in sub_members:\n",
    "                    print(f\"{indent}    {sm}\")\n",
    "\n",
    "\n",
    "# Example usage:\n",
    "show_package_tree(\"pyFMM\")\n"
   ]
  }
 ],
 "metadata": {
  "kernelspec": {
   "display_name": "MagPy",
   "language": "python",
   "name": "python3"
  },
  "language_info": {
   "codemirror_mode": {
    "name": "ipython",
    "version": 3
   },
   "file_extension": ".py",
   "mimetype": "text/x-python",
   "name": "python",
   "nbconvert_exporter": "python",
   "pygments_lexer": "ipython3",
   "version": "3.12.11"
  }
 },
 "nbformat": 4,
 "nbformat_minor": 5
}
